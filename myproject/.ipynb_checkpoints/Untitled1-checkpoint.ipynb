{
 "cells": [
  {
   "cell_type": "code",
   "execution_count": 6,
   "metadata": {},
   "outputs": [
    {
     "name": "stdout",
     "output_type": "stream",
     "text": [
      "mango 10.00\n",
      "grape 25.00\n",
      "Apple 15.00\n"
     ]
    }
   ],
   "source": [
    "for i in Product.objects.all():\n",
    "    print(i.name, i.price)"
   ]
  },
  {
   "cell_type": "code",
   "execution_count": 2,
   "metadata": {},
   "outputs": [
    {
     "name": "stdout",
     "output_type": "stream",
     "text": [
      "grape 25.00 V\n"
     ]
    }
   ],
   "source": [
    "for i in Product.objects.filter(category='V'):\n",
    "    print(i.name, i.price, i.category, )"
   ]
  },
  {
   "cell_type": "code",
   "execution_count": 7,
   "metadata": {
    "scrolled": true
   },
   "outputs": [
    {
     "name": "stdout",
     "output_type": "stream",
     "text": [
      "<class 'myapp.models.Product'>\n",
      "2 mango\n"
     ]
    }
   ],
   "source": [
    "x = Product.objects.get(pk=2)\n",
    "print(type(x))\n",
    "print(x.pk,x)"
   ]
  },
  {
   "cell_type": "code",
   "execution_count": 15,
   "metadata": {},
   "outputs": [
    {
     "name": "stdout",
     "output_type": "stream",
     "text": [
      "<class 'django.db.models.query.QuerySet'>\n",
      "SELECT \"myapp_product\".\"id\", \"myapp_product\".\"name\", \"myapp_product\".\"price\", \"myapp_product\".\"category\", \"myapp_product\".\"image\" FROM \"myapp_product\"\n",
      "mango\n",
      "grape\n",
      "Apple\n"
     ]
    }
   ],
   "source": [
    "x = Product.objects.all()\n",
    "print(type(x))\n",
    "print(x.query)\n",
    "for i in x:\n",
    "    print(i)"
   ]
  },
  {
   "cell_type": "code",
   "execution_count": 4,
   "metadata": {},
   "outputs": [],
   "source": [
    "y=Product(name='product_y', price=12)"
   ]
  },
  {
   "cell_type": "code",
   "execution_count": 5,
   "metadata": {},
   "outputs": [
    {
     "data": {
      "text/plain": [
       "<bound method Model.save of <Product: product_y>>"
      ]
     },
     "execution_count": 5,
     "metadata": {},
     "output_type": "execute_result"
    }
   ],
   "source": [
    "y.save"
   ]
  },
  {
   "cell_type": "code",
   "execution_count": 16,
   "metadata": {},
   "outputs": [
    {
     "name": "stdout",
     "output_type": "stream",
     "text": [
      "SELECT \"myapp_product\".\"id\", \"myapp_product\".\"name\", \"myapp_product\".\"price\", \"myapp_product\".\"category\", \"myapp_product\".\"image\" FROM \"myapp_product\" WHERE \"myapp_product\".\"category\" = V\n"
     ]
    }
   ],
   "source": [
    "x = Product.objects.filter(category='V')\n",
    "print(x.query)"
   ]
  },
  {
   "cell_type": "code",
   "execution_count": 14,
   "metadata": {},
   "outputs": [
    {
     "ename": "SyntaxError",
     "evalue": "invalid syntax (<ipython-input-14-e3cd4401f8c4>, line 1)",
     "output_type": "error",
     "traceback": [
      "\u001b[0;36m  File \u001b[0;32m\"<ipython-input-14-e3cd4401f8c4>\"\u001b[0;36m, line \u001b[0;32m1\u001b[0m\n\u001b[0;31m    for p in Product.objects,raw(SELECT*FROM myapp_product)\u001b[0m\n\u001b[0m                                                         ^\u001b[0m\n\u001b[0;31mSyntaxError\u001b[0m\u001b[0;31m:\u001b[0m invalid syntax\n"
     ]
    }
   ],
   "source": [
    "for p in Product.objects,raw(SELECT*FROM myapp_product)\n",
    "print(p)"
   ]
  },
  {
   "cell_type": "code",
   "execution_count": 19,
   "metadata": {},
   "outputs": [
    {
     "name": "stdout",
     "output_type": "stream",
     "text": [
      "SELECT \"myapp_product\".\"id\", \"myapp_product\".\"name\", \"myapp_product\".\"price\", \"myapp_product\".\"category\", \"myapp_product\".\"image\" FROM \"myapp_product\" WHERE \"myapp_product\".\"price\" < 12\n"
     ]
    }
   ],
   "source": [
    "x = Product.objects.filter(price__lt=12)\n",
    "print(x.query)"
   ]
  },
  {
   "cell_type": "code",
   "execution_count": 20,
   "metadata": {},
   "outputs": [
    {
     "name": "stdout",
     "output_type": "stream",
     "text": [
      "SELECT \"myapp_product\".\"id\", \"myapp_product\".\"name\", \"myapp_product\".\"price\", \"myapp_product\".\"category\", \"myapp_product\".\"image\" FROM \"myapp_product\" WHERE \"myapp_product\".\"price\" <= 12\n"
     ]
    }
   ],
   "source": [
    "x = Product.objects.filter(price__lte=12)\n",
    "print(x.query)"
   ]
  },
  {
   "cell_type": "code",
   "execution_count": null,
   "metadata": {},
   "outputs": [],
   "source": []
  }
 ],
 "metadata": {
  "kernelspec": {
   "display_name": "Django Shell-Plus",
   "language": "python",
   "name": "django_extensions"
  },
  "language_info": {
   "codemirror_mode": {
    "name": "ipython",
    "version": 3
   },
   "file_extension": ".py",
   "mimetype": "text/x-python",
   "name": "python",
   "nbconvert_exporter": "python",
   "pygments_lexer": "ipython3",
   "version": "3.6.7"
  }
 },
 "nbformat": 4,
 "nbformat_minor": 2
}
